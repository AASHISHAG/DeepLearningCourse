{
 "cells": [
  {
   "cell_type": "markdown",
   "metadata": {},
   "source": [
    "# Perceptron: foundation block of Neural Network"
   ]
  },
  {
   "cell_type": "markdown",
   "metadata": {},
   "source": [
    "A perceptron is a simple binary classification algorithm, proposed in 1958 at the Cornell Aeronautical Laboratory by Frank Rosenblatt. \n",
    "\n",
    "It's the most fundamental unit of a deep neural network (also called an artificial neuron), which is developed on biological \"neuron models\" that conceptually resemble the mechanisms by which real biological neurons transmit signals."
   ]
  },
  {
   "cell_type": "markdown",
   "metadata": {},
   "source": [
    "## Neurons and Perceptron"
   ]
  },
  {
   "cell_type": "markdown",
   "metadata": {},
   "source": [
    "Let’s first look at the basic unit of a biological brain —— the neuron."
   ]
  },
  {
   "cell_type": "markdown",
   "metadata": {},
   "source": [
    "![](./img/Blausen_0657_MultipolarNeuron.png)"
   ]
  },
  {
   "cell_type": "markdown",
   "metadata": {},
   "source": [
    "![pn](./img/pn.png)"
   ]
  },
  {
   "cell_type": "markdown",
   "metadata": {},
   "source": [
    "In neuron, the dendrite receives electrical signals from the axons of other neurons. In the perceptron, these electrical signals are represented as numerical **input values**, $x_1,x_2, x_3,...,x_n$.\n",
    "\n",
    "At the synapses between the dendrite and axons, electrical signals are modulated in various amounts. In the perceptron, this corresponds to each of input value is multiplied by a specific value called the **weight**, $w_0, w_1, w_2,...,w_n$.\n",
    "\n",
    "Finally, a neuron **triggers** an output only when the total strength of the input signals exceed a certain **threshold**. \n",
    "\n",
    "A threshold is like the capacity of a water cup. The cup overflows only when it is filled. It's because neurons don't want to transmit small interfering signals, only strong ones do.\n",
    "\n",
    "This is simulated by calculating the weighted **sum of the inputs**, $ z = w_0 + w_1x_1 + w_2x_2 + ... + w_nx_n$, and applying a **step function** $f(z)$ on the sum to determine its output $y$. \n",
    "\n",
    "\n",
    "$$\n",
    "y=\\left\\{\n",
    "\\begin{array}{rcl}\n",
    "0       &      & {w_0 + w_1x_1 + w_2x_2 + ... + w_nx_n > 0}\\\\\n",
    "1     &      & {w_0 + w_1x_1 + w_2x_2 + ... + w_nx_n\\leq 0}\\\\\n",
    "\\end{array} \\right.\n",
    "$$\n",
    "\n",
    "\n",
    "The simple step function we use may looks like this:"
   ]
  },
  {
   "cell_type": "code",
   "execution_count": 1,
   "metadata": {},
   "outputs": [
    {
     "data": {
      "text/plain": [
       "<matplotlib.figure.Figure at 0x1054cacf8>"
      ]
     },
     "metadata": {},
     "output_type": "display_data"
    }
   ],
   "source": [
    "import matplotlib.pyplot as plt\n",
    "\n",
    "plt.xlabel(\"Input\")\n",
    "plt.ylabel(\"Output\")\n",
    "\n",
    "plt.plot([0,3,3,5],[0,0,1,1])\n",
    "plt.ylim(-0.1,1.1)\n",
    "\n",
    "plt.show()"
   ]
  },
  {
   "cell_type": "markdown",
   "metadata": {},
   "source": [
    "The threshold value is 3. When the input less than 3, the output is 0. Once the threshold input is reached, output jumps to 1."
   ]
  },
  {
   "cell_type": "markdown",
   "metadata": {},
   "source": [
    "Summary"
   ]
  },
  {
   "cell_type": "markdown",
   "metadata": {},
   "source": [
    "## Reference\n",
    "\n",
    "- [Neuron](https://en.wikipedia.org/wiki/Neuron)\n",
    "- [Perceptron](https://en.wikipedia.org/wiki/Perceptron)\n",
    "- [15-859(B) Machine Learning Theory](https://www.cs.cmu.edu/~avrim/ML10/lect0125.pdf)\n",
    "- [The perceptron](https://cs.stanford.edu/people/eroberts/courses/soco/projects/neural-networks/Neuron/index.html)\n",
    "- [the-artificial-neuron-at-the-core-of-deep-learning](https://missinglink.ai/guides/neural-network-concepts/perceptrons-and-multi-layer-perceptrons-the-artificial-neuron-at-the-core-of-deep-learning/)"
   ]
  },
  {
   "cell_type": "markdown",
   "metadata": {},
   "source": [
    "## Exercise\n",
    "\n",
    "1. What is Perceptron?\n",
    "2. What is step function?"
   ]
  }
 ],
 "metadata": {
  "kernelspec": {
   "display_name": "Python 3",
   "language": "python",
   "name": "python3"
  },
  "language_info": {
   "codemirror_mode": {
    "name": "ipython",
    "version": 3
   },
   "file_extension": ".py",
   "mimetype": "text/x-python",
   "name": "python",
   "nbconvert_exporter": "python",
   "pygments_lexer": "ipython3",
   "version": "3.6.7"
  }
 },
 "nbformat": 4,
 "nbformat_minor": 2
}
