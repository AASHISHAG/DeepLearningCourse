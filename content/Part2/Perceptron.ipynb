{
 "cells": [
  {
   "cell_type": "markdown",
   "metadata": {},
   "source": [
    "# Classifying Iris Flowers 【Draft】"
   ]
  },
  {
   "cell_type": "code",
   "execution_count": 1,
   "metadata": {},
   "outputs": [],
   "source": [
    "# dataset\n",
    "from sklearn import datasets\n",
    "# plot\n",
    "import seaborn as sns\n",
    "sns.set_style(\"darkgrid\")\n",
    "import matplotlib.pyplot as plt\n",
    "# data manipulation\n",
    "import pandas as pd\n",
    "import numpy as np\n",
    "# To display image in the jupyter notebook cell\n",
    "%matplotlib inline"
   ]
  },
  {
   "cell_type": "markdown",
   "metadata": {},
   "source": [
    "## Question\n",
    "\n",
    "How could machine learn from data? To answer this question, let's look at an example first: there is a data set winch consists two species of Iris, how to classify those two species? When given a new Iris, how to predict which Iris category it belongs to?"
   ]
  },
  {
   "cell_type": "markdown",
   "metadata": {},
   "source": [
    "## Data Set\n",
    "\n",
    "The data set we will use is modified from the Iris dataset which can be found on the [UCI Machine Learning Repository](https://archive.ics.uci.edu/ml/datasets/Iris/). It consists of 50 samples from each of **two species** of Iris (Iris setosa, Iris virginica). **Two features** were measured from each sample: the length of the sepals and petals, in centimeters."
   ]
  },
  {
   "cell_type": "markdown",
   "metadata": {},
   "source": [
    "Let's get a close look at the dataset."
   ]
  },
  {
   "cell_type": "code",
   "execution_count": 2,
   "metadata": {},
   "outputs": [
    {
     "data": {
      "text/html": [
       "<div>\n",
       "<style scoped>\n",
       "    .dataframe tbody tr th:only-of-type {\n",
       "        vertical-align: middle;\n",
       "    }\n",
       "\n",
       "    .dataframe tbody tr th {\n",
       "        vertical-align: top;\n",
       "    }\n",
       "\n",
       "    .dataframe thead th {\n",
       "        text-align: right;\n",
       "    }\n",
       "</style>\n",
       "<table border=\"1\" class=\"dataframe\">\n",
       "  <thead>\n",
       "    <tr style=\"text-align: right;\">\n",
       "      <th></th>\n",
       "      <th>sepal length (cm)</th>\n",
       "      <th>petal length (cm)</th>\n",
       "      <th>target_class</th>\n",
       "    </tr>\n",
       "  </thead>\n",
       "  <tbody>\n",
       "    <tr>\n",
       "      <th>0</th>\n",
       "      <td>5.1</td>\n",
       "      <td>1.4</td>\n",
       "      <td>1</td>\n",
       "    </tr>\n",
       "    <tr>\n",
       "      <th>1</th>\n",
       "      <td>4.9</td>\n",
       "      <td>1.4</td>\n",
       "      <td>1</td>\n",
       "    </tr>\n",
       "    <tr>\n",
       "      <th>2</th>\n",
       "      <td>4.7</td>\n",
       "      <td>1.3</td>\n",
       "      <td>1</td>\n",
       "    </tr>\n",
       "    <tr>\n",
       "      <th>3</th>\n",
       "      <td>4.6</td>\n",
       "      <td>1.5</td>\n",
       "      <td>1</td>\n",
       "    </tr>\n",
       "    <tr>\n",
       "      <th>4</th>\n",
       "      <td>5.0</td>\n",
       "      <td>1.4</td>\n",
       "      <td>1</td>\n",
       "    </tr>\n",
       "  </tbody>\n",
       "</table>\n",
       "</div>"
      ],
      "text/plain": [
       "   sepal length (cm)  petal length (cm)  target_class\n",
       "0                5.1                1.4             1\n",
       "1                4.9                1.4             1\n",
       "2                4.7                1.3             1\n",
       "3                4.6                1.5             1\n",
       "4                5.0                1.4             1"
      ]
     },
     "execution_count": 2,
     "metadata": {},
     "output_type": "execute_result"
    }
   ],
   "source": [
    "# read csv file\n",
    "iris_dataset = pd.read_csv(\"iris_data.csv\")\n",
    "# show the first 5 lines\n",
    "iris_dataset.head()"
   ]
  },
  {
   "cell_type": "markdown",
   "metadata": {},
   "source": [
    "The columns in this dataset are:\n",
    "- sepal length in cm\n",
    "- petal length in cm\n",
    "- Species\n",
    "    - target_class 1: setosa\n",
    "    - target_class -1: versicolor"
   ]
  },
  {
   "cell_type": "markdown",
   "metadata": {},
   "source": [
    "![](./img/iris.png)\n",
    "\n",
    "*Image source* [1](https://en.wikipedia.org/wiki/Iris_flower_data_set#/media/File:Iris_versicolor_3.jpg) [2](http://www.twofrog.com/images/iris38a.jpg)\n"
   ]
  },
  {
   "cell_type": "markdown",
   "metadata": {
    "toc-hr-collapsed": false
   },
   "source": [
    "## Classification"
   ]
  },
  {
   "cell_type": "markdown",
   "metadata": {},
   "source": [
    "The following graph showing the measured sepal length and sepal length of Iris."
   ]
  },
  {
   "cell_type": "code",
   "execution_count": 3,
   "metadata": {},
   "outputs": [
    {
     "data": {
      "text/plain": [
       "<seaborn.axisgrid.FacetGrid at 0x106902630>"
      ]
     },
     "execution_count": 3,
     "metadata": {},
     "output_type": "execute_result"
    },
    {
     "data": {
      "image/png": "[encoded data removed]",
      "text/plain": [
       "<matplotlib.figure.Figure at 0x10791e940>"
      ]
     },
     "metadata": {},
     "output_type": "display_data"
    }
   ],
   "source": [
    "sns.lmplot(\"sepal length (cm)\", \"petal length (cm)\", data=iris_dataset,fit_reg=False,hue=\"target_class\")"
   ]
  },
  {
   "cell_type": "markdown",
   "metadata": {},
   "source": [
    "I believe you can classify those two species category immediately.\n",
    "\n",
    "Get back to our question, identify which category a new Iris belongs to?\n",
    "\n",
    "Suppose the new Iris' sepal length is 5.5 cm and petal length is 3.2. We draw this new Iris to the plot."
   ]
  },
  {
   "cell_type": "code",
   "execution_count": 4,
   "metadata": {},
   "outputs": [
    {
     "data": {
      "text/plain": [
       "<seaborn.axisgrid.FacetGrid at 0x1a197684e0>"
      ]
     },
     "execution_count": 4,
     "metadata": {},
     "output_type": "execute_result"
    },
    {
     "data": {
      "image/png": "[encoded data removed]",
      "text/plain": [
       "<matplotlib.figure.Figure at 0x109589a90>"
      ]
     },
     "metadata": {},
     "output_type": "display_data"
    }
   ],
   "source": [
    "new_iris_dataset = iris_dataset.append([{\"sepal length (cm)\":5.5, \"petal length (cm)\":3.2,\"target_class\":\"unknown\"}])\n",
    "sns.lmplot(\"sepal length (cm)\", \"petal length (cm)\", data=new_iris_dataset,fit_reg=False,hue=\"target_class\")"
   ]
  },
  {
   "cell_type": "markdown",
   "metadata": {},
   "source": [
    "The unknown dot is the new Iris. Obviously, it belongs to versicolor specie (target_clss=-1)."
   ]
  },
  {
   "cell_type": "markdown",
   "metadata": {},
   "source": [
    "## A simple Classifier"
   ]
  },
  {
   "cell_type": "markdown",
   "metadata": {},
   "source": [
    "This task is easy for us. We can classify them by eyes. Howevere, the computer doesn't has eyes, how can it split those two groups?\n",
    "\n",
    "You may have noticed that this is a two-dimensional plane, and if  want to separate the two classes, we can put a line between them. It looks like the following plot."
   ]
  },
  {
   "cell_type": "code",
   "execution_count": 5,
   "metadata": {},
   "outputs": [
    {
     "data": {
      "text/plain": [
       "[<matplotlib.lines.Line2D at 0x1a1b7f8d68>]"
      ]
     },
     "execution_count": 5,
     "metadata": {},
     "output_type": "execute_result"
    },
    {
     "data": {
      "image/png": "[encoded data removed]",
      "text/plain": [
       "<matplotlib.figure.Figure at 0x1a197a7e10>"
      ]
     },
     "metadata": {},
     "output_type": "display_data"
    }
   ],
   "source": [
    "x = np.linspace(4,8,18)\n",
    "a = 0.1\n",
    "b = 2\n",
    "y = a * x + b\n",
    "\n",
    "sns.lmplot(\"sepal length (cm)\", \"petal length (cm)\", data=iris_dataset,fit_reg=False,hue=\"target_class\")\n",
    "plt.plot(x, y, '-r')"
   ]
  },
  {
   "cell_type": "markdown",
   "metadata": {},
   "source": [
    "All the points above the line are setosa category(-1), and all the points below the line are versicolor category(1). When a new Iris comes, a computer can predict which category it falls into by deciding whether it is above or below the line. \n",
    "\n",
    "Therefore, **if we can teach computer to find such a kind of line, we can solve our problem!** Let's do it."
   ]
  },
  {
   "cell_type": "markdown",
   "metadata": {},
   "source": [
    "In formal, this line in a two-dimensional plane can be represent as following:\n",
    " \n",
    "$$y = a*x + b $$\n",
    "\n",
    "In other words, y is the function f of x:\n",
    "\n",
    "$$f(x) = ax + b$$\n",
    "\n",
    "\n",
    "\n",
    "(1) equal to:\n",
    "\n",
    "$$ a*x - y + b  = 0$$\n",
    "\n",
    "let\n",
    "\n",
    "$$w_0 = b$$\n",
    "$$w_1 = a$$\n",
    "$$w_2 = -1$$\n",
    "\n",
    "\n",
    "then it becomes:\n",
    "\n",
    "$$w_1*x + w_2*y + w_0 = 0$$\n",
    "\n",
    "Therefore, mathematics form, all points above the line are:\n",
    "\n",
    "$$w_1*x + w_2*y + w_0 > 0$$\n",
    "\n",
    "and all points below the line are:\n",
    "\n",
    "$$w_1*x + w_2*y + w_0 < 0$$.\n",
    "\n",
    "\n",
    "Because $f(x)$ is a linear function, we call it **a linear classifier**."
   ]
  },
  {
   "cell_type": "markdown",
   "metadata": {},
   "source": [
    "![](./img/simple.png)\n"
   ]
  },
  {
   "cell_type": "markdown",
   "metadata": {},
   "source": [
    "$x, y$\n",
    "\n",
    "$w_0, w_1$\n",
    "\n",
    "\n",
    "为之后输出表示方便，我们用 x_2 替换 y。\n",
    "\n",
    "得到：\n",
    "\n",
    "$$w_1*x_1 + w_2*x_2 + w_0 = 0$$\n",
    "\n",
    "\n",
    "\n",
    "We'll use data to train this line to be a suitable linear classifier. Essentially, it's looking for suitable parameters of $w_0$, $w_1$, $w_2$."
   ]
  },
  {
   "cell_type": "markdown",
   "metadata": {},
   "source": [
    "## Perceptron Learning Algorithm"
   ]
  },
  {
   "cell_type": "markdown",
   "metadata": {},
   "source": [
    "\n",
    "\n",
    "\n",
    "\n",
    "\n",
    "\n",
    "\n",
    "\n",
    "\n",
    "Actually, in deep learning, this is **a Simplified Perceptron**."
   ]
  },
  {
   "cell_type": "code",
   "execution_count": null,
   "metadata": {},
   "outputs": [],
   "source": []
  },
  {
   "cell_type": "code",
   "execution_count": null,
   "metadata": {},
   "outputs": [],
   "source": []
  },
  {
   "cell_type": "code",
   "execution_count": null,
   "metadata": {},
   "outputs": [],
   "source": []
  },
  {
   "cell_type": "markdown",
   "metadata": {},
   "source": [
    "### Training a linear classifier"
   ]
  },
  {
   "cell_type": "markdown",
   "metadata": {},
   "source": [
    "To focus on the essential concept, we simply the problem by supposing that parameter $b$ is known as 2.\n",
    "\n",
    "Which means the liner function becomes:\n",
    "\n",
    "$$y = ax + 2$$\n",
    "\n",
    "We'll use data to train this line to be a suitable linear classifier. Essentially, it's looking for a suitable parameter $a$.\n",
    "\n",
    "To get start, we choose a randome value 0.6 for $a$."
   ]
  },
  {
   "cell_type": "code",
   "execution_count": 15,
   "metadata": {},
   "outputs": [],
   "source": [
    "def draw_classify(a,direction=\"\"):\n",
    "    x = np.linspace(4,7.5,18)\n",
    "    y = a*x + b\n",
    "    \n",
    "    sns.lmplot(\"sepal length (cm)\", \"petal length (cm)\", data=iris_dataset,fit_reg=False,hue=\"target_class\")\n",
    "    plt.plot(x, y, '-r',)\n",
    "    \n",
    "    label=\"y={0}*x + 2\".format(str(a))\n",
    "    plt.text(6.5,3.8,label,fontsize=15)\n",
    "    \n",
    "    if direction == 1:\n",
    "        direction = r'↑'\n",
    "    elif direction == -1:\n",
    "        direction = r'↓'\n",
    "    else: direction = \"\"\n",
    "    \n",
    "    plt.text(7.5, a*7.5+1.8, direction, fontsize=25, va='bottom')\n",
    "    \n",
    "    plt.show()"
   ]
  },
  {
   "cell_type": "code",
   "execution_count": 16,
   "metadata": {},
   "outputs": [
    {
     "data": {
      "image/png": "[encoded data removed]",
      "text/plain": [
       "<matplotlib.figure.Figure at 0x1a1f8b4d68>"
      ]
     },
     "metadata": {},
     "output_type": "display_data"
    }
   ],
   "source": [
    "a = 0.6\n",
    "draw_classify(a,-1)"
   ]
  },
  {
   "cell_type": "markdown",
   "metadata": {},
   "source": [
    "It seems that this classifier is not so good, it doesn't split those two species. All dots are below it. So, we need to move the line down a bit.\n",
    "\n",
    "We want to see if we can find a repeatable recipe to do this, a series of computer instructions, which computer scientists call an algorithm.\n",
    "\n",
    "How much should we move down?\n",
    "\n",
    "step length = 0.4"
   ]
  },
  {
   "cell_type": "code",
   "execution_count": 17,
   "metadata": {},
   "outputs": [
    {
     "data": {
      "image/png": "[encoded data removed]",
      "text/plain": [
       "<matplotlib.figure.Figure at 0x1a1f8c1ef0>"
      ]
     },
     "metadata": {},
     "output_type": "display_data"
    }
   ],
   "source": [
    "a = 0.2\n",
    "draw_classify(a,-1)"
   ]
  },
  {
   "cell_type": "code",
   "execution_count": 18,
   "metadata": {},
   "outputs": [
    {
     "data": {
      "image/png": "[encoded data removed]",
      "text/plain": [
       "<matplotlib.figure.Figure at 0x1a1f9d47b8>"
      ]
     },
     "metadata": {},
     "output_type": "display_data"
    }
   ],
   "source": [
    "a = -0.2\n",
    "draw_classify(a,1)"
   ]
  },
  {
   "cell_type": "markdown",
   "metadata": {},
   "source": []
  },
  {
   "cell_type": "markdown",
   "metadata": {},
   "source": [
    "## Reference\n",
    "- [perceptron introduction](https://medium.com/jameslearningnote/資料分析-機器學習-第3-2講-線性分類-感知器-perceptron-介紹-84d8b809f866)"
   ]
  },
  {
   "cell_type": "code",
   "execution_count": null,
   "metadata": {},
   "outputs": [],
   "source": []
  },
  {
   "cell_type": "code",
   "execution_count": null,
   "metadata": {},
   "outputs": [],
   "source": []
  }
 ],
 "metadata": {
  "kernelspec": {
   "display_name": "Python 3",
   "language": "python",
   "name": "python3"
  },
  "language_info": {
   "codemirror_mode": {
    "name": "ipython",
    "version": 3
   },
   "file_extension": ".py",
   "mimetype": "text/x-python",
   "name": "python",
   "nbconvert_exporter": "python",
   "pygments_lexer": "ipython3",
   "version": "3.6.4"
  }
 },
 "nbformat": 4,
 "nbformat_minor": 2
}
