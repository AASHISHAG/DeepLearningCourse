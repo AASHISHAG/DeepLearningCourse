{
 "cells": [
  {
   "cell_type": "markdown",
   "metadata": {},
   "source": [
    "# Iris Classification"
   ]
  },
  {
   "cell_type": "code",
   "execution_count": 36,
   "metadata": {},
   "outputs": [],
   "source": [
    "# dataset\n",
    "from sklearn import datasets\n",
    "# plot\n",
    "import seaborn as sns\n",
    "sns.set_style(\"darkgrid\")\n",
    "import matplotlib.pyplot as plt\n",
    "# data manipulation\n",
    "import pandas as pd\n",
    "import numpy as np\n",
    "# To display image in the jupyter notebook cell\n",
    "%matplotlib inline"
   ]
  },
  {
   "cell_type": "markdown",
   "metadata": {},
   "source": [
    "## Question\n",
    "\n",
    "In the last section, we learn about perceptron. How to use it to classify data? To answer this question, let's look at an example first: there is a data set which consists of two species of Iris. Our questions are: \n",
    "\n",
    "- How to classify those two species? \n",
    "- When given a new Iris, how to predict which Iris category it belongs to?"
   ]
  },
  {
   "cell_type": "markdown",
   "metadata": {},
   "source": [
    "## Data Set\n",
    "\n",
    "The data set we will use is modified from the Iris dataset which can be found on the [UCI Machine Learning Repository](https://archive.ics.uci.edu/ml/datasets/Iris/). It consists of 50 samples from each of **two species** of Iris (Iris setosa, Iris virginica). **Two features** were measured from each sample: the length of the sepals and petals, in centimeters."
   ]
  },
  {
   "cell_type": "markdown",
   "metadata": {},
   "source": [
    "Let's get a close look at the dataset."
   ]
  },
  {
   "cell_type": "code",
   "execution_count": 37,
   "metadata": {},
   "outputs": [
    {
     "data": {
      "text/html": [
       "<div>\n",
       "<style scoped>\n",
       "    .dataframe tbody tr th:only-of-type {\n",
       "        vertical-align: middle;\n",
       "    }\n",
       "\n",
       "    .dataframe tbody tr th {\n",
       "        vertical-align: top;\n",
       "    }\n",
       "\n",
       "    .dataframe thead th {\n",
       "        text-align: right;\n",
       "    }\n",
       "</style>\n",
       "<table border=\"1\" class=\"dataframe\">\n",
       "  <thead>\n",
       "    <tr style=\"text-align: right;\">\n",
       "      <th></th>\n",
       "      <th>sepal length (cm)</th>\n",
       "      <th>petal length (cm)</th>\n",
       "      <th>target_class</th>\n",
       "    </tr>\n",
       "  </thead>\n",
       "  <tbody>\n",
       "    <tr>\n",
       "      <th>0</th>\n",
       "      <td>5.1</td>\n",
       "      <td>1.4</td>\n",
       "      <td>1</td>\n",
       "    </tr>\n",
       "    <tr>\n",
       "      <th>1</th>\n",
       "      <td>4.9</td>\n",
       "      <td>1.4</td>\n",
       "      <td>1</td>\n",
       "    </tr>\n",
       "    <tr>\n",
       "      <th>2</th>\n",
       "      <td>4.7</td>\n",
       "      <td>1.3</td>\n",
       "      <td>1</td>\n",
       "    </tr>\n",
       "    <tr>\n",
       "      <th>3</th>\n",
       "      <td>4.6</td>\n",
       "      <td>1.5</td>\n",
       "      <td>1</td>\n",
       "    </tr>\n",
       "    <tr>\n",
       "      <th>4</th>\n",
       "      <td>5.0</td>\n",
       "      <td>1.4</td>\n",
       "      <td>1</td>\n",
       "    </tr>\n",
       "  </tbody>\n",
       "</table>\n",
       "</div>"
      ],
      "text/plain": [
       "   sepal length (cm)  petal length (cm)  target_class\n",
       "0                5.1                1.4             1\n",
       "1                4.9                1.4             1\n",
       "2                4.7                1.3             1\n",
       "3                4.6                1.5             1\n",
       "4                5.0                1.4             1"
      ]
     },
     "execution_count": 37,
     "metadata": {},
     "output_type": "execute_result"
    }
   ],
   "source": [
    "# read csv file\n",
    "iris_dataset = pd.read_csv(\"iris_data.csv\")\n",
    "# show the first 5 lines\n",
    "iris_dataset.head()"
   ]
  },
  {
   "cell_type": "markdown",
   "metadata": {},
   "source": [
    "The columns in this dataset are:\n",
    "- sepal length in cm\n",
    "- petal length in cm\n",
    "- Species\n",
    "    - target_class 1: setosa\n",
    "    - target_class -1: versicolor"
   ]
  },
  {
   "cell_type": "markdown",
   "metadata": {},
   "source": [
    "![](./img/iris.png)\n",
    "\n",
    "*Image source* [1](https://en.wikipedia.org/wiki/Iris_flower_data_set#/media/File:Iris_versicolor_3.jpg) [2](http://www.twofrog.com/images/iris38a.jpg)\n"
   ]
  },
  {
   "cell_type": "markdown",
   "metadata": {
    "toc-hr-collapsed": false
   },
   "source": [
    "## Classification"
   ]
  },
  {
   "cell_type": "markdown",
   "metadata": {},
   "source": [
    "The following graph showing the measured sepal length and sepal length of Iris."
   ]
  },
  {
   "cell_type": "code",
   "execution_count": 38,
   "metadata": {},
   "outputs": [
    {
     "data": {
      "text/plain": [
       "<seaborn.axisgrid.FacetGrid at 0x1a17eac940>"
      ]
     },
     "execution_count": 38,
     "metadata": {},
     "output_type": "execute_result"
    },
    {
     "data": {
      "image/png": "[encoded data removed]",
      "text/plain": [
       "<matplotlib.figure.Figure at 0x1a17e97470>"
      ]
     },
     "metadata": {},
     "output_type": "display_data"
    }
   ],
   "source": [
    "sns.lmplot(\"sepal length (cm)\", \"petal length (cm)\", data=iris_dataset,fit_reg=False,hue=\"target_class\")"
   ]
  },
  {
   "cell_type": "markdown",
   "metadata": {},
   "source": [
    "I believe you can classify those two species category immediately with your eye. Do you remember our question: identify which category a new Iris belongs to?\n",
    "Suppose the new Iris' sepal length is 5.5 cm and petal length is 3.2. We draw this new Iris point to the plot."
   ]
  },
  {
   "cell_type": "code",
   "execution_count": 39,
   "metadata": {},
   "outputs": [
    {
     "data": {
      "text/plain": [
       "<seaborn.axisgrid.FacetGrid at 0x1a17b3d358>"
      ]
     },
     "execution_count": 39,
     "metadata": {},
     "output_type": "execute_result"
    },
    {
     "data": {
      "image/png": "[encoded data removed]",
      "text/plain": [
       "<matplotlib.figure.Figure at 0x1a17e58470>"
      ]
     },
     "metadata": {},
     "output_type": "display_data"
    }
   ],
   "source": [
    "new_iris_dataset = iris_dataset.append([{\"sepal length (cm)\":5.5, \"petal length (cm)\":3.2,\"target_class\":\"unknown\"}])\n",
    "sns.lmplot(\"sepal length (cm)\", \"petal length (cm)\", data=new_iris_dataset,fit_reg=False,hue=\"target_class\")"
   ]
  },
  {
   "cell_type": "markdown",
   "metadata": {},
   "source": [
    "The unknown dot is the new Iris. Obviously, it belongs to versicolor specie (target_clss=-1)."
   ]
  },
  {
   "cell_type": "markdown",
   "metadata": {},
   "source": [
    "### Linear Classifier"
   ]
  },
  {
   "cell_type": "markdown",
   "metadata": {},
   "source": [
    "This task is easy for us. We can classify them by our eyes. However, the computer doesn't have eyes. How can they split those two groups?\n",
    "\n",
    "You may have noticed that this is a two-dimensional plane, and if want to separate the two classes, we can put a line between them. It looks like the following plot."
   ]
  },
  {
   "cell_type": "code",
   "execution_count": 40,
   "metadata": {},
   "outputs": [
    {
     "data": {
      "text/plain": [
       "[<matplotlib.lines.Line2D at 0x1a17f214a8>]"
      ]
     },
     "execution_count": 40,
     "metadata": {},
     "output_type": "execute_result"
    },
    {
     "data": {
      "image/png": "[encoded data removed]",
      "text/plain": [
       "<matplotlib.figure.Figure at 0x1a17f16780>"
      ]
     },
     "metadata": {},
     "output_type": "display_data"
    }
   ],
   "source": [
    "x = np.linspace(4,8,18)\n",
    "a = 0.1\n",
    "b = 2\n",
    "y = a * x + b\n",
    "\n",
    "sns.lmplot(\"sepal length (cm)\", \"petal length (cm)\", data=iris_dataset,fit_reg=False,hue=\"target_class\")\n",
    "plt.plot(x, y, '-r')"
   ]
  },
  {
   "cell_type": "markdown",
   "metadata": {},
   "source": [
    "All the points above the line are setosa category(-1), and all the points below the line are versicolor category(1). When a new Iris comes, a computer can predict which category it falls into by deciding whether it is above or below the line. \n",
    "\n",
    "Therefore, **if we can teach the computer to find such a kind of line, we can solve our problem!** Let's do it."
   ]
  },
  {
   "cell_type": "markdown",
   "metadata": {},
   "source": [
    "A line in a two-dimensional plane can be represented as follows:\n",
    "\n",
    "$$ax + by + c = 0 $$\n",
    "\n",
    "Let:\n",
    "\n",
    "$$w_0 = c$$\n",
    "$$w_1 = a$$\n",
    "$$w_2 = b$$\n",
    "\n",
    "\n",
    "Then it becomes:\n",
    "\n",
    "$$w_1x + w_2y + w_0 = 0$$\n",
    "\n",
    "Therefore, in mathematics form, all points above the line are:\n",
    "\n",
    "$$w_1*x + w_2*y + w_0 > 0$$\n",
    "\n",
    "And all points below and on the line are:\n",
    "\n",
    "$$w_1*x + w_2*y + w_0 \\leq 0$$\n",
    "\n",
    "\n",
    "Actually, this is exactly **how a perceptron looks like when n = 2**:\n",
    "\n",
    "\n",
    "$$\n",
    "y=\\left\\{\n",
    "\\begin{array}{rcl}\n",
    "0       &      & {w_0 + w_1x_1 + w_2x_2 + ... + w_nx_n > 0}\\\\\n",
    "1     &      & {w_0 + w_1x_1 + w_2x_2 + ... + w_nx_n\\leq 0}\\\\\n",
    "\\end{array} \\right.\n",
    "$$\n",
    "\n",
    "let n = 2:\n",
    "\n",
    "$$\n",
    "y=\\left\\{\n",
    "\\begin{array}{rcl}\n",
    "0       &      & {w_0 + w_1x_1 + w_2x_2 > 0}\\\\\n",
    "1     &      & {w_0 + w_1x_1 + w_2x_2 \\leq 0}\\\\\n",
    "\\end{array} \\right.\n",
    "$$\n",
    "\n",
    "\n",
    "Because $f(x,y)$ is a linear function, we call it **a linear classifier**. To find a appropriate linear classifier of Iris, we need to find suitable $w_0,w_1$, and $w_3$."
   ]
  },
  {
   "cell_type": "code",
   "execution_count": null,
   "metadata": {},
   "outputs": [],
   "source": []
  },
  {
   "cell_type": "markdown",
   "metadata": {},
   "source": [
    "## Implement a perceptron"
   ]
  },
  {
   "cell_type": "markdown",
   "metadata": {},
   "source": [
    "To implement a perceptron, we manually choose suitable $w_0,w_1$, and $w_3$ parameters for it.\n",
    "\n",
    "Let,\n",
    "$$\n",
    "w_0 = 2\n",
    "w_1 = 0.1\n",
    "w_2 = -1\n",
    "$$\n",
    "\n",
    "Then the line is:\n",
    "$$2 + 0.1x_1 - x_2 = 0$$\n",
    "\n",
    "The perceptron act like this:\n",
    "\n",
    "$$\n",
    "y=\\left\\{\n",
    "\\begin{array}{rcl}\n",
    "0       &      & {2 + 0.1x_1 - x_2 > 0}\\\\\n",
    "1     &      & {2 + 0.1x_1 - x_2 \\leq 0}\\\\\n",
    "\\end{array} \\right.\n",
    "$$"
   ]
  },
  {
   "cell_type": "code",
   "execution_count": 41,
   "metadata": {},
   "outputs": [
    {
     "data": {
      "text/plain": [
       "[<matplotlib.lines.Line2D at 0x1a180c4400>]"
      ]
     },
     "execution_count": 41,
     "metadata": {},
     "output_type": "execute_result"
    },
    {
     "data": {
      "image/png": "[encoded data removed]",
      "text/plain": [
       "<matplotlib.figure.Figure at 0x1a180bd6a0>"
      ]
     },
     "metadata": {},
     "output_type": "display_data"
    }
   ],
   "source": [
    "x_1 = np.linspace(4,8,18)\n",
    "\n",
    "w_0 = 2\n",
    "w_1 = 0.1\n",
    "w_2 = -1\n",
    "x_2 = a * x_1 + b\n",
    "\n",
    "sns.lmplot(\"sepal length (cm)\", \"petal length (cm)\", data=iris_dataset,fit_reg=False,hue=\"target_class\")\n",
    "plt.plot(x_1, x_2, '-r')"
   ]
  },
  {
   "cell_type": "markdown",
   "metadata": {},
   "source": [
    "Here, we define a function perceptron which takes $x_1,x_2$ as inputs."
   ]
  },
  {
   "cell_type": "code",
   "execution_count": 42,
   "metadata": {},
   "outputs": [],
   "source": [
    "def perceptron(x1,x2):\n",
    "    w0 = 2\n",
    "    w1 = 0.1\n",
    "    w2 = -1\n",
    "    \n",
    "    value = w0 + w1*x1 + w2*x2\n",
    "    \n",
    "    if value > 0:\n",
    "        return -1\n",
    "    else:\n",
    "        return 1"
   ]
  },
  {
   "cell_type": "markdown",
   "metadata": {},
   "source": [
    "Now, let use it to predict the new Iris data with 5.1 sepal length and 1.4 petal length."
   ]
  },
  {
   "cell_type": "code",
   "execution_count": 43,
   "metadata": {},
   "outputs": [
    {
     "data": {
      "text/plain": [
       "-1"
      ]
     },
     "execution_count": 43,
     "metadata": {},
     "output_type": "execute_result"
    }
   ],
   "source": [
    "perceptron(5.1,1.4)"
   ]
  },
  {
   "cell_type": "markdown",
   "metadata": {},
   "source": [
    "The output is right. We build a perceptron!\n",
    "\n",
    "In this section, we learn about how to use the perceptron to classify Iris data set and implement a simple perceptron.\n",
    "\n",
    "So far, our perceptron is not smart at all, because we manually choose the parameters of the linear classifier. Later in the course, one of the key things to understand is how to teach them automatically learn the appropriate parameters from the data."
   ]
  },
  {
   "cell_type": "markdown",
   "metadata": {},
   "source": [
    "## Reference\n",
    "- [Iris data set](https://archive.ics.uci.edu/ml/datasets/Iris/)\n",
    "- [perceptron introduction](https://medium.com/jameslearningnote/資料分析-機器學習-第3-2講-線性分類-感知器-perceptron-介紹-84d8b809f866)"
   ]
  }
 ],
 "metadata": {
  "kernelspec": {
   "display_name": "Python 3",
   "language": "python",
   "name": "python3"
  },
  "language_info": {
   "codemirror_mode": {
    "name": "ipython",
    "version": 3
   },
   "file_extension": ".py",
   "mimetype": "text/x-python",
   "name": "python",
   "nbconvert_exporter": "python",
   "pygments_lexer": "ipython3",
   "version": "3.7.3"
  }
 },
 "nbformat": 4,
 "nbformat_minor": 4
}
