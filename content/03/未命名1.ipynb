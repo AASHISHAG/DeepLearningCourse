{
 "cells": [
  {
   "cell_type": "markdown",
   "metadata": {},
   "source": [
    "# Why non-linear activate function?"
   ]
  },
  {
   "cell_type": "markdown",
   "metadata": {},
   "source": [
    "### Non-linear activate function\n",
    "\n",
    "The activate function in neural network must be an non-linearities function.\n",
    "\n",
    "Why activate function must to be non-linearities function? \n",
    "\n",
    "Generally speaking, the purpose of activation functions is to introduce non-linearities into the network. \n",
    "\n",
    "If we only allow linear activation functions in a neural network, the output will just be affine transformation of the input. The activation function does the non-linear transformation to the input making it capable to learn and perform more complex tasks. \n",
    "\n",
    "From another point of view, without non-linear function, adding more layer to the network would be nonesence.\n",
    "\n",
    "$h(h(h(x))) = a*a*a*x$"
   ]
  },
  {
   "cell_type": "code",
   "execution_count": null,
   "metadata": {},
   "outputs": [],
   "source": []
  }
 ],
 "metadata": {
  "kernelspec": {
   "display_name": "Python 3",
   "language": "python",
   "name": "python3"
  },
  "language_info": {
   "codemirror_mode": {
    "name": "ipython",
    "version": 3
   },
   "file_extension": ".py",
   "mimetype": "text/x-python",
   "name": "python",
   "nbconvert_exporter": "python",
   "pygments_lexer": "ipython3",
   "version": "3.7.3"
  }
 },
 "nbformat": 4,
 "nbformat_minor": 2
}
