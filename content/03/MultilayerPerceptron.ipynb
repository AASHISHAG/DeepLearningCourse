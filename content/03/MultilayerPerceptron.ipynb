{
 "cells": [
  {
   "cell_type": "markdown",
   "metadata": {},
   "source": [
    "# Multilayer Perceptron"
   ]
  },
  {
   "cell_type": "markdown",
   "metadata": {},
   "source": [
    "Abstract\n",
    "\n",
    "In this chapter, we will ... balabala"
   ]
  },
  {
   "cell_type": "markdown",
   "metadata": {},
   "source": [
    "Multilayer perceptron, also named Deep Feedforward Networks. Multilayer perceptron add hidden layer based on the single perceptron.\n",
    "\n",
    "\n",
    "The diagram 3.1 shows an example neural network. The leftmost layer 0 is the input layer. \n",
    "\n",
    "The right most layer 2 is the ouput layer. \n",
    "\n",
    "The middle layer 1 is called hidden layer. (**Why we call it hidden layer?**)\n",
    "\n",
    "\n",
    "> 1. It's called “hidden” because their values are not given in the data; instead the model must determine which concepts are useful for explaining the relationships in the observed data. The images here are visualizations of the kind of feature represented by each hidden unit.\n",
    "> 2. we can't see it 🤔\n",
    "\n",
    "\n",
    "\n",
    "\n",
    "Here input layer and output layer have two nodes and hidden layer has three nodes.\n",
    "\n",
    "\n",
    "There are 3 layers in this neural network,\n",
    "\n",
    "with 3 layers, each with 3 nodes. To keep the diagram clear, not all the weights are marked."
   ]
  },
  {
   "cell_type": "markdown",
   "metadata": {},
   "source": [
    "- Input layer\n",
    "- Output layer\n",
    "- Hidden layer"
   ]
  },
  {
   "cell_type": "markdown",
   "metadata": {},
   "source": [
    "![](./img/layer.png)\n",
    "\n",
    "3.1 Neural Network"
   ]
  },
  {
   "cell_type": "code",
   "execution_count": null,
   "metadata": {},
   "outputs": [],
   "source": []
  },
  {
   "cell_type": "markdown",
   "metadata": {},
   "source": [
    "## Reference\n",
    "\n",
    "- CHAPTER 1. INTRODUCTION MIT BOOK"
   ]
  }
 ],
 "metadata": {
  "kernelspec": {
   "display_name": "Python 3",
   "language": "python",
   "name": "python3"
  },
  "language_info": {
   "codemirror_mode": {
    "name": "ipython",
    "version": 3
   },
   "file_extension": ".py",
   "mimetype": "text/x-python",
   "name": "python",
   "nbconvert_exporter": "python",
   "pygments_lexer": "ipython3",
   "version": "3.6.7"
  }
 },
 "nbformat": 4,
 "nbformat_minor": 2
}
