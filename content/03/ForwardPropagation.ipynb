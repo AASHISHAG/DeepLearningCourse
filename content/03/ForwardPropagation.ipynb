{
 "cells": [
  {
   "cell_type": "markdown",
   "metadata": {},
   "source": [
    "# Forward Propagation"
   ]
  },
  {
   "cell_type": "markdown",
   "metadata": {},
   "source": [
    "Now we get familiar with the deep feedforward networks's structure, we are going to learn how the single pass through the network."
   ]
  },
  {
   "cell_type": "markdown",
   "metadata": {},
   "source": [
    "There is a two-layer neural network with one hidden layer. Here the value of input $x_1$ and $x_2$ are:"
   ]
  },
  {
   "cell_type": "code",
   "execution_count": 1,
   "metadata": {},
   "outputs": [],
   "source": [
    "x1 = 0.2\n",
    "x2 = 0.8"
   ]
  },
  {
   "cell_type": "markdown",
   "metadata": {},
   "source": [
    "We start with some random weights and bias from between layer0 and layer1:"
   ]
  },
  {
   "cell_type": "code",
   "execution_count": 2,
   "metadata": {},
   "outputs": [],
   "source": [
    "# Layer 0 to Layer 1\n",
    "b1 = 0.4\n",
    "b2 = 0.56\n",
    "b3 = 0.64\n",
    "\n",
    "w11 =1.0\n",
    "w12 = 0.7\n",
    "w13 = 0.34\n",
    "w21 = 0.5\n",
    "w22 = 0.8\n",
    "w23 = 0.6"
   ]
  },
  {
   "cell_type": "markdown",
   "metadata": {},
   "source": [
    "![initLayer](img/initLayer.png)"
   ]
  },
  {
   "cell_type": "markdown",
   "metadata": {},
   "source": [
    "This animation shows how the single pass through the network:"
   ]
  },
  {
   "cell_type": "markdown",
   "metadata": {},
   "source": [
    "![video](video/layer.gif)"
   ]
  },
  {
   "cell_type": "markdown",
   "metadata": {},
   "source": [
    "A hidden unit in hidden layer looks like this:\n",
    "\n",
    "![HiddenUnit](img/Node.png)"
   ]
  },
  {
   "cell_type": "markdown",
   "metadata": {},
   "source": [
    "Here we use sigmod function as activate function h(x)."
   ]
  },
  {
   "cell_type": "code",
   "execution_count": 3,
   "metadata": {},
   "outputs": [],
   "source": [
    "import numpy as np\n",
    "def sigmoid(x):\n",
    "    return 1 / (1 + np.exp(-x))"
   ]
  },
  {
   "cell_type": "markdown",
   "metadata": {},
   "source": [
    "\n",
    "The first layer of nodes is input layer which doing nothing but input signals. Notice that we add a bias node which weight is $b_1$.\n",
    "\n",
    "Move to the second layer, let's calculate input of first node:\n",
    "\n",
    "$$a_1 = w_{1,1}x_1+w_{2,1}x_2 + b_1$$\n",
    "\n",
    "The input nodes have values of 0.2 and 0.8. The weight of bias node in input layer and the first node in hidden layer is 0.4. The weight from second node in input layer is 0.1. The link weight from third node is 0.5. So the combined $a_1$ input is:\n",
    "\n",
    "$$a_1 = 1 * 0.2 + 0.5 * 0.8 + 0.4$$\n",
    "\n",
    "$$a_1 = 0.2 + 0.4 + 0.4$$\n",
    "\n",
    "$$a_1 =1$$"
   ]
  },
  {
   "cell_type": "code",
   "execution_count": 4,
   "metadata": {},
   "outputs": [
    {
     "name": "stdout",
     "output_type": "stream",
     "text": [
      "1.0\n"
     ]
    }
   ],
   "source": [
    "a1 = w11 * x1 + w21 * x2 + b1\n",
    "print(a1)"
   ]
  },
  {
   "cell_type": "markdown",
   "metadata": {},
   "source": [
    "Then we calculate the output of this node using activate function $h(x) = sigmod(x)$.\n",
    "\n",
    "$$z_1 = sigmod(a_1)$$\n",
    "\n",
    "$$ z_1 =  \\frac{\\mathrm{1} }{\\mathrm{1} + e^{-1.1} }  $$\n",
    "\n",
    "$$z_1 = 0.7310585786300049$$\n"
   ]
  },
  {
   "cell_type": "code",
   "execution_count": 5,
   "metadata": {},
   "outputs": [
    {
     "name": "stdout",
     "output_type": "stream",
     "text": [
      "0.7310585786300049\n"
     ]
    }
   ],
   "source": [
    "z1 = sigmoid(a1)\n",
    "print(z1)"
   ]
  },
  {
   "cell_type": "markdown",
   "metadata": {},
   "source": [
    "Cool! We have finished calculate the first node's output. \n",
    "\n",
    "The remaining two nodes can be calculated with the same way.\n",
    "\n",
    "The second node of hidden layer:\n",
    "\n",
    "$$a_2 = w_{1,2}x_1+w_{2,2}x_2 + b_2$$\n",
    "\n",
    "$$a_2 = 0.7 * 0.2 + 0.8* 0.8 + 0.4 = 1.3400000000000003$$\n",
    "\n",
    "$$z_2 = sigmod(a_2) = 0.7924899414403644$$"
   ]
  },
  {
   "cell_type": "code",
   "execution_count": 6,
   "metadata": {},
   "outputs": [
    {
     "name": "stdout",
     "output_type": "stream",
     "text": [
      "1.3400000000000003\n"
     ]
    }
   ],
   "source": [
    "a2 = w12 * x1 + w22 * x2 + b2\n",
    "print(a2)"
   ]
  },
  {
   "cell_type": "code",
   "execution_count": 7,
   "metadata": {},
   "outputs": [
    {
     "name": "stdout",
     "output_type": "stream",
     "text": [
      "0.7924899414403644\n"
     ]
    }
   ],
   "source": [
    "z2 = sigmoid(a2)\n",
    "print(z2)"
   ]
  },
  {
   "cell_type": "markdown",
   "metadata": {},
   "source": [
    "The third node of hidden layer:"
   ]
  },
  {
   "cell_type": "markdown",
   "metadata": {},
   "source": [
    "$$a_3 = w_{1,3}x_1+w_{2,3}x_2 + b_3$$\n",
    "\n",
    "$$a_3 = 0.34 * 0.2 + 0.6 * 0.8 + 0.4 = 1.1880000000000002$$\n",
    "\n",
    "$$z_3 = sigmod(a_3) = 0.7663831750110293$$"
   ]
  },
  {
   "cell_type": "code",
   "execution_count": 8,
   "metadata": {},
   "outputs": [
    {
     "name": "stdout",
     "output_type": "stream",
     "text": [
      "1.1880000000000002\n"
     ]
    }
   ],
   "source": [
    "a3 = w13 * x1 + w23 * x2 + b3\n",
    "print(a3)"
   ]
  },
  {
   "cell_type": "code",
   "execution_count": 9,
   "metadata": {},
   "outputs": [
    {
     "name": "stdout",
     "output_type": "stream",
     "text": [
      "0.7663831750110293\n"
     ]
    }
   ],
   "source": [
    "z3 = sigmoid(a3)\n",
    "print(z3)"
   ]
  },
  {
   "cell_type": "markdown",
   "metadata": {},
   "source": [
    "For each node we need to write the corresponding calculation formula, now we just handwritten three nodes, you are likely to get the wrong index. In the future, our network will become more and more complex, and there may be hundreds or thousands of nodes. If we still use such a way, it would be difficult to ensure that nothing goes wrong, isn't it?\n",
    "\n",
    "So how do we simplify this? Actually using the matrix in mathematics can simplify and speed up the node's calculation of the computer. Let's see what's going on in next section."
   ]
  }
 ],
 "metadata": {
  "kernelspec": {
   "display_name": "Python 3",
   "language": "python",
   "name": "python3"
  },
  "language_info": {
   "codemirror_mode": {
    "name": "ipython",
    "version": 3
   },
   "file_extension": ".py",
   "mimetype": "text/x-python",
   "name": "python",
   "nbconvert_exporter": "python",
   "pygments_lexer": "ipython3",
   "version": "3.6.7"
  }
 },
 "nbformat": 4,
 "nbformat_minor": 4
}
