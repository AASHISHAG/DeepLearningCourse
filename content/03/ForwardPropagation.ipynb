{
 "cells": [
  {
   "cell_type": "markdown",
   "metadata": {},
   "source": [
    "# Forward Propagation "
   ]
  },
  {
   "cell_type": "markdown",
   "metadata": {},
   "source": [
    "Now we get familiar with the deep feedforward networks's structure, we are going to learn how the single pass through the neuron.\n"
   ]
  },
  {
   "cell_type": "markdown",
   "metadata": {},
   "source": [
    "![image-20190630125057290](img/pt.png)\n",
    "\n",
    "Here the value of input $x_1$ and $x_2$ are:\n",
    "\n",
    "$x_1 = 0.2$\n",
    "\n",
    "$x_2 = 0.8$"
   ]
  },
  {
   "cell_type": "code",
   "execution_count": 75,
   "metadata": {},
   "outputs": [],
   "source": [
    "x1 = 0.2\n",
    "x2 = 0.8"
   ]
  },
  {
   "cell_type": "markdown",
   "metadata": {},
   "source": [
    "We start with some random weights and bias:\n",
    "\n",
    "$b_1 = 0.4$\n",
    "\n",
    "$b_2 = 0.56$\n",
    "\n",
    "$b_3 = 0.64$\n",
    "\n",
    "$w{1,1} = 1$\n",
    "\n",
    "$w{1,2} = 0.7$\n",
    "\n",
    "$w{1,3} = 0.34$\n",
    "\n",
    "$w{2,1} = 0.5$\n",
    "\n",
    "$w{2,2} = 0.8$\n",
    "\n",
    "$w{2,3} = 0.6$"
   ]
  },
  {
   "cell_type": "code",
   "execution_count": 76,
   "metadata": {},
   "outputs": [],
   "source": [
    "b1 = 0.4 \n",
    "b2 = 0.56\n",
    "b3 = 0.64\n",
    "\n",
    "w11 =1.0\n",
    "w12 = 0.7\n",
    "w13 = 0.34\n",
    "w21 = 0.5\n",
    "w22 = 0.8\n",
    "w23 = 0.6"
   ]
  },
  {
   "cell_type": "markdown",
   "metadata": {},
   "source": [
    "Here we use sigmod function as activate function."
   ]
  },
  {
   "cell_type": "code",
   "execution_count": 77,
   "metadata": {},
   "outputs": [],
   "source": [
    "import numpy as np\n",
    "def sigmoid(x):\n",
    "    return 1 / (1 + np.exp(-x))"
   ]
  },
  {
   "cell_type": "markdown",
   "metadata": {},
   "source": [
    "\n",
    "The first layer of nodes is input layer which doing nothing but input signals. Notice that we add a bias node which weight is $b_1$.\n",
    "\n",
    "Move to the second layer, let's calculate input of first node:\n",
    "\n",
    "$$a_1 = w_{1,1}x_1+w_{2,1}x_2 + b_1$$\n",
    "\n",
    "The input nodes have values of 0.2 and 0.8. The weight of bias node in input layer and the first node in hidden layer is 0.4. The weight from second node in input layer is 0.1. The link weight from third node is 0.5. So the combined $a_1$ input is:\n",
    "\n",
    "$a_1 = 1 * 0.2 + 0.5 * 0.8 + 0.4$\n",
    "\n",
    "$a_1 = 0.2 + 0.4 + 0.4$\n",
    "\n",
    "$a_1 =1$"
   ]
  },
  {
   "cell_type": "code",
   "execution_count": 78,
   "metadata": {},
   "outputs": [
    {
     "name": "stdout",
     "output_type": "stream",
     "text": [
      "1.0\n"
     ]
    }
   ],
   "source": [
    "a1 = w11 * x1 + w21 * x2 + b1\n",
    "print(a1)"
   ]
  },
  {
   "cell_type": "markdown",
   "metadata": {},
   "source": [
    "Then we calculate the output of this node using activate function $h(x) = sigmod(x)$.\n",
    "\n",
    "$z_1 = sigmod(a_1)$\n",
    "\n",
    "$ z_1 =  \\frac{\\mathrm{1} }{\\mathrm{1} + e^{-1.1} }  $\n",
    "\n",
    "$z_1 = 0.7310585786300049$\n"
   ]
  },
  {
   "cell_type": "code",
   "execution_count": 79,
   "metadata": {},
   "outputs": [
    {
     "name": "stdout",
     "output_type": "stream",
     "text": [
      "0.7310585786300049\n"
     ]
    }
   ],
   "source": [
    "z1 = sigmoid(a1)\n",
    "print(z1)"
   ]
  },
  {
   "cell_type": "markdown",
   "metadata": {},
   "source": [
    "Cool! We have finished calculate the first node's output. \n",
    "\n",
    "The remaining two nodes can be calculated with the same way.\n",
    "\n",
    "The second node of hidden layer:\n",
    "\n",
    "$a_2 = w_{1,2}x_1+w_{2,2}x_2 + b_2$\n",
    "\n",
    "$a_2 = 0.7 * 0.2 + 0.8* 0.8 + 0.4 = 1.3400000000000003$\n",
    "\n",
    "$z_2 = sigmod(a_2) = 0.7924899414403644$"
   ]
  },
  {
   "cell_type": "code",
   "execution_count": 80,
   "metadata": {},
   "outputs": [
    {
     "name": "stdout",
     "output_type": "stream",
     "text": [
      "1.3400000000000003\n"
     ]
    }
   ],
   "source": [
    "a2 = w12 * x1 + w22 * x2 + b2\n",
    "print(a2)"
   ]
  },
  {
   "cell_type": "code",
   "execution_count": 81,
   "metadata": {},
   "outputs": [
    {
     "name": "stdout",
     "output_type": "stream",
     "text": [
      "0.7924899414403644\n"
     ]
    }
   ],
   "source": [
    "z2 = sigmoid(a2)\n",
    "print(z2)"
   ]
  },
  {
   "cell_type": "markdown",
   "metadata": {},
   "source": [
    "The third node of hidden layer:"
   ]
  },
  {
   "cell_type": "markdown",
   "metadata": {},
   "source": [
    "$a_3 = w_{1,3}x_1+w_{2,3}x_2 + b_3$\n",
    "\n",
    "$a_3 = 0.34 * 0.2 + 0.6 * 0.8 + 0.4 = 1.1880000000000002$\n",
    "\n",
    "$z_3 = sigmod(a_3) = 0.7663831750110293$"
   ]
  },
  {
   "cell_type": "code",
   "execution_count": 82,
   "metadata": {},
   "outputs": [
    {
     "name": "stdout",
     "output_type": "stream",
     "text": [
      "1.1880000000000002\n"
     ]
    }
   ],
   "source": [
    "a3 = w13 * x1 + w23 * x2 + b3\n",
    "print(a3)"
   ]
  },
  {
   "cell_type": "code",
   "execution_count": 83,
   "metadata": {},
   "outputs": [
    {
     "name": "stdout",
     "output_type": "stream",
     "text": [
      "0.7663831750110293\n"
     ]
    }
   ],
   "source": [
    "z3 = sigmoid(a3)\n",
    "print(z3)"
   ]
  },
  {
   "cell_type": "markdown",
   "metadata": {},
   "source": [
    "For each node we need to write the corresponding calculation formula, now we just handwritten three nodes, you are likely to get the wrong index. In the future, our network will become more and more complex, and there may be hundreds or thousands of nodes. If we still use such a way, it would be difficult to ensure that nothing goes wrong, isn't it?\n",
    "\n",
    "So how do we simplify this? Actually using the matrix in mathematics can simplify and speed up the node's calculation of the computer. Let's see what's going on."
   ]
  },
  {
   "cell_type": "markdown",
   "metadata": {},
   "source": [
    "## Matrix\n",
    "\n",
    "In mathematics, a **matrix** (plural: **matrices**) is a table, a rectangular array of numbers, symbols, or expressions, arranged in rows and columns. In python, we can use two-dimensional array to represent it.\n",
    "\n",
    "For example, the dimension of the matrix below is 2 by 3, because there are two rows and three columns:"
   ]
  },
  {
   "cell_type": "markdown",
   "metadata": {},
   "source": [
    "![matrixSample](img/matrix.png)"
   ]
  },
  {
   "cell_type": "markdown",
   "metadata": {},
   "source": [
    "In Python, we usually use Numpy to represent and evaluate matrices."
   ]
  },
  {
   "cell_type": "code",
   "execution_count": 84,
   "metadata": {},
   "outputs": [],
   "source": [
    "A = np.array([[2,4,5],[3,7,9]])"
   ]
  },
  {
   "cell_type": "markdown",
   "metadata": {},
   "source": [
    "We use ndim funcation to get the dimension of the matrix:"
   ]
  },
  {
   "cell_type": "code",
   "execution_count": 85,
   "metadata": {},
   "outputs": [
    {
     "data": {
      "text/plain": [
       "2"
      ]
     },
     "execution_count": 85,
     "metadata": {},
     "output_type": "execute_result"
    }
   ],
   "source": [
    "np.ndim(A)"
   ]
  },
  {
   "cell_type": "markdown",
   "metadata": {},
   "source": [
    "Shown as the ouput, this is a two dimension matrix."
   ]
  },
  {
   "cell_type": "markdown",
   "metadata": {},
   "source": [
    "And we can use shape function to get shape:"
   ]
  },
  {
   "cell_type": "code",
   "execution_count": 86,
   "metadata": {},
   "outputs": [
    {
     "data": {
      "text/plain": [
       "(2, 3)"
      ]
     },
     "execution_count": 86,
     "metadata": {},
     "output_type": "execute_result"
    }
   ],
   "source": [
    "A.shape"
   ]
  },
  {
   "cell_type": "markdown",
   "metadata": {},
   "source": [
    "This is a 2 by 3 array matrix. 2 represent the number of rows, which means the first dimension has 2 elements. 3 represent the number of columns, which means the second dimension has 3 elements."
   ]
  },
  {
   "cell_type": "markdown",
   "metadata": {},
   "source": [
    "### Multiplying Matrixs\n",
    "\n",
    "Now let's see how to multiple Matrix. When multiply a matrix by another matrix we need to do the **dot product** of rows and columns. Here’s an example of two simple matrixs A and B multiplied together."
   ]
  },
  {
   "cell_type": "markdown",
   "metadata": {},
   "source": [
    "To work out the top left element of the answer, let's take the dot product of first row of A and first column of B.\n",
    "\n",
    "The **Dot Product** means multiply matching members, then sum up:\n",
    "\n",
    "$$(2, 4) • (4, 6) = 2×4 + 4×6 = 26$$\n",
    "\n",
    "We multiply first numbers 2 and 4, likewise for the second numbers 4 and 6, and finally sum them up."
   ]
  },
  {
   "cell_type": "markdown",
   "metadata": {},
   "source": [
    "![](video/m1.gif)"
   ]
  },
  {
   "cell_type": "markdown",
   "metadata": {},
   "source": [
    "![](img/matrix1.png)"
   ]
  },
  {
   "cell_type": "markdown",
   "metadata": {},
   "source": [
    "Using the same way, we figure out the top right element of the answer."
   ]
  },
  {
   "cell_type": "markdown",
   "metadata": {},
   "source": [
    "![](video/m2.gif)"
   ]
  },
  {
   "cell_type": "markdown",
   "metadata": {},
   "source": [
    "![](img/matrix2.png)"
   ]
  },
  {
   "cell_type": "markdown",
   "metadata": {},
   "source": [
    "That's easy right? Continuing work out the rest numbers by yourself."
   ]
  },
  {
   "cell_type": "markdown",
   "metadata": {},
   "source": [
    "![](img/matrix3.png)"
   ]
  },
  {
   "cell_type": "markdown",
   "metadata": {},
   "source": [
    "![](img/matrix4.png)"
   ]
  },
  {
   "cell_type": "markdown",
   "metadata": {},
   "source": [
    "Finally, we get the result matrix C."
   ]
  },
  {
   "cell_type": "markdown",
   "metadata": {},
   "source": [
    "Notice that we can’t multiply any two matrices, they need to be compatible, which means the number of columns in the first must be equal to the number of rows in the second."
   ]
  },
  {
   "cell_type": "markdown",
   "metadata": {},
   "source": [
    "This operation can be achieved using Numpy. We create two matrix A and B:"
   ]
  },
  {
   "cell_type": "code",
   "execution_count": 87,
   "metadata": {},
   "outputs": [
    {
     "name": "stdout",
     "output_type": "stream",
     "text": [
      "[[2 4]\n",
      " [3 7]]\n"
     ]
    }
   ],
   "source": [
    "A = np.array([[2,4],[3,7]])\n",
    "print(A)"
   ]
  },
  {
   "cell_type": "code",
   "execution_count": 88,
   "metadata": {},
   "outputs": [
    {
     "name": "stdout",
     "output_type": "stream",
     "text": [
      "[[1 9]\n",
      " [6 8]]\n"
     ]
    }
   ],
   "source": [
    "B = np.array([[1,9],[6,8]])\n",
    "print(B)"
   ]
  },
  {
   "cell_type": "markdown",
   "metadata": {},
   "source": [
    "Then use **dot** operation to multiply them and assign the result to matrix C:"
   ]
  },
  {
   "cell_type": "code",
   "execution_count": 89,
   "metadata": {},
   "outputs": [
    {
     "name": "stdout",
     "output_type": "stream",
     "text": [
      "[[26 50]\n",
      " [45 83]]\n"
     ]
    }
   ],
   "source": [
    "C = np.dot(A,B)\n",
    "print(C)"
   ]
  },
  {
   "cell_type": "markdown",
   "metadata": {},
   "source": [
    "Now that you understand the basics, let's see how we can apply matrix  to neural network computation."
   ]
  },
  {
   "cell_type": "markdown",
   "metadata": {},
   "source": [
    "Let's using the variables in our neural networks."
   ]
  },
  {
   "cell_type": "markdown",
   "metadata": {},
   "source": [
    "Before, the calculation formula we use is as follows:"
   ]
  },
  {
   "cell_type": "markdown",
   "metadata": {},
   "source": [
    "$a_1 = w_{1,1}x_1+w_{2,1}x_2 + b_1$\n",
    "\n",
    "$a_2 = w_{1,2}x_1+w_{2,2}x_2 + b_2$\n",
    "\n",
    "$a_3 = w_{1,3}x_1+w_{2,3}x_2 + b_3$\n"
   ]
  },
  {
   "cell_type": "markdown",
   "metadata": {},
   "source": [
    "Now, we use matrix to represent:"
   ]
  },
  {
   "cell_type": "markdown",
   "metadata": {},
   "source": [
    "![x](img/x.png)\n",
    "\n",
    "![x](img/w.png)\n",
    "\n",
    "![x](img/b.png)"
   ]
  },
  {
   "cell_type": "markdown",
   "metadata": {},
   "source": [
    "W is the matrix of weights, X is the matrix of inputs, B is the bias."
   ]
  },
  {
   "cell_type": "markdown",
   "metadata": {},
   "source": [
    "The formula for calculating the input of the hidden layer is as follows"
   ]
  },
  {
   "cell_type": "markdown",
   "metadata": {},
   "source": [
    "$$A = XW + B$$"
   ]
  },
  {
   "cell_type": "markdown",
   "metadata": {},
   "source": [
    "![xw.png](img/xw.png)"
   ]
  },
  {
   "cell_type": "markdown",
   "metadata": {},
   "source": [
    "![xw+b.png](img/xw+b.png)"
   ]
  },
  {
   "cell_type": "markdown",
   "metadata": {},
   "source": [
    "We use a simple matrix operation expression $A = XW + B$ to calculate the input of the hidden layer node. It's pretty neat and powerful. Even if we add more nodes, the expression\n",
    "\n",
    "\n",
    "it's just the input matrix gets bigger and the expression stays the same.\n",
    "\n",
    "Even with the addition of more nodes, the expression is still so concise."
   ]
  },
  {
   "cell_type": "markdown",
   "metadata": {},
   "source": [
    "看，我们使用一个简单的矩阵运算表达式$A = XW + B$，就同时计算出了隐藏层节点的输入。这个表达式，非常简洁有力。就算我们增加了更多的节点，也只是输入的矩阵增大，表达式依旧不变。\n",
    "\n",
    "就算是增加更多的节点，这个表达式还是如此的简洁。"
   ]
  },
  {
   "cell_type": "markdown",
   "metadata": {},
   "source": [
    "让我们用Numpy来实现吧。"
   ]
  },
  {
   "cell_type": "code",
   "execution_count": 95,
   "metadata": {},
   "outputs": [],
   "source": [
    "import numpy as np\n",
    "X = np.array([x1, x2])\n",
    "W = np.array([[w11, w12, w13], [w21, w22, w23]])\n",
    "B = np.array([b1, b2, b3])"
   ]
  },
  {
   "cell_type": "code",
   "execution_count": 96,
   "metadata": {},
   "outputs": [
    {
     "name": "stdout",
     "output_type": "stream",
     "text": [
      "[1.    1.34  1.188]\n"
     ]
    }
   ],
   "source": [
    "A = np.dot(X,W) + B\n",
    "print(A)"
   ]
  },
  {
   "cell_type": "code",
   "execution_count": 97,
   "metadata": {},
   "outputs": [
    {
     "name": "stdout",
     "output_type": "stream",
     "text": [
      "[0.73105858 0.79248994 0.76638318]\n"
     ]
    }
   ],
   "source": [
    "Z = sigmoid(A)\n",
    "print(Z)"
   ]
  },
  {
   "cell_type": "code",
   "execution_count": 98,
   "metadata": {},
   "outputs": [
    {
     "data": {
      "text/plain": [
       "array([0.73105858, 0.79248994, 0.76638318])"
      ]
     },
     "execution_count": 98,
     "metadata": {},
     "output_type": "execute_result"
    }
   ],
   "source": [
    "import numpy as np\n",
    "\n",
    "def sigmoid(x):\n",
    "    return 1 / (1 + np.exp(-x))\n",
    "\n",
    "def initNeural():\n",
    "    X = np.array([x1, x2])\n",
    "    W = np.array([[w11, w12, w13], [w21, w22, w23]])\n",
    "    B = np.array([b1, b2, b3])\n",
    "\n",
    "def forword():\n",
    "    A = np.dot(X,W) + B\n",
    "    Z = sigmoid(A)\n",
    "    return Z\n",
    "\n",
    "initNeural()\n",
    "forword()"
   ]
  },
  {
   "cell_type": "markdown",
   "metadata": {},
   "source": [
    "- https://en.wikipedia.org/wiki/Matrix_(mathematics)\n",
    "- https://www.youtube.com/watch?v=xyAuNHPsq-g\n",
    "- https://www.mathsisfun.com/algebra/matrix-multiplying.html"
   ]
  },
  {
   "cell_type": "code",
   "execution_count": null,
   "metadata": {},
   "outputs": [],
   "source": []
  },
  {
   "cell_type": "code",
   "execution_count": null,
   "metadata": {},
   "outputs": [],
   "source": []
  },
  {
   "cell_type": "code",
   "execution_count": null,
   "metadata": {},
   "outputs": [],
   "source": []
  }
 ],
 "metadata": {
  "kernelspec": {
   "display_name": "Python 3",
   "language": "python",
   "name": "python3"
  },
  "language_info": {
   "codemirror_mode": {
    "name": "ipython",
    "version": 3
   },
   "file_extension": ".py",
   "mimetype": "text/x-python",
   "name": "python",
   "nbconvert_exporter": "python",
   "pygments_lexer": "ipython3",
   "version": "3.6.7"
  }
 },
 "nbformat": 4,
 "nbformat_minor": 2
}
