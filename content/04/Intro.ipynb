{
 "cells": [
  {
   "cell_type": "markdown",
   "metadata": {},
   "source": [
    "# Chapter 4 Learning: Training Neural Networks"
   ]
  },
  {
   "cell_type": "markdown",
   "metadata": {},
   "source": [
    "So far, we learned about the structure of MLP and how the forward propagation works. This chapter introduce how to teach neural network to learn form data. Here learning means chooseing the best weights and bais for our network to minimum the loss function. The method we'll use is gradient descent.\n",
    "\n",
    "This the core of neural network. Don't worry those new special terms seems difficult at first. You'll to understand those gradually. After that the neural network will no longer mysterious to you. "
   ]
  }
 ],
 "metadata": {
  "kernelspec": {
   "display_name": "Python 3",
   "language": "python",
   "name": "python3"
  },
  "language_info": {
   "codemirror_mode": {
    "name": "ipython",
    "version": 3
   },
   "file_extension": ".py",
   "mimetype": "text/x-python",
   "name": "python",
   "nbconvert_exporter": "python",
   "pygments_lexer": "ipython3",
   "version": "3.7.3"
  }
 },
 "nbformat": 4,
 "nbformat_minor": 2
}
